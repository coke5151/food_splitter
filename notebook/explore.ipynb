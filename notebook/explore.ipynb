{
 "cells": [
  {
   "cell_type": "code",
   "execution_count": 13,
   "metadata": {},
   "outputs": [
    {
     "name": "stdout",
     "output_type": "stream",
     "text": [
      "Hello World\n"
     ]
    }
   ],
   "source": [
    "print(\"Hello World\")"
   ]
  },
  {
   "cell_type": "code",
   "execution_count": 14,
   "metadata": {},
   "outputs": [],
   "source": [
    "import datetime as dt\n",
    "\n",
    "import pandas as pd\n"
   ]
  },
  {
   "cell_type": "code",
   "execution_count": 15,
   "metadata": {},
   "outputs": [],
   "source": [
    "df = pd.DataFrame(\n",
    "    {\n",
    "        \"購買時間\": [\n",
    "            dt.datetime.today(),\n",
    "        ],\n",
    "        \"品項\": [\n",
    "            \"Apple\",\n",
    "        ],\n",
    "        \"價格（新台幣）\": [\n",
    "            100,\n",
    "        ],\n",
    "        \"出資者\": [\n",
    "            \"王小明\"\n",
    "        ]\n",
    "    }\n",
    ")\n"
   ]
  },
  {
   "cell_type": "code",
   "execution_count": 16,
   "metadata": {},
   "outputs": [
    {
     "data": {
      "text/html": [
       "<div>\n",
       "<style scoped>\n",
       "    .dataframe tbody tr th:only-of-type {\n",
       "        vertical-align: middle;\n",
       "    }\n",
       "\n",
       "    .dataframe tbody tr th {\n",
       "        vertical-align: top;\n",
       "    }\n",
       "\n",
       "    .dataframe thead th {\n",
       "        text-align: right;\n",
       "    }\n",
       "</style>\n",
       "<table border=\"1\" class=\"dataframe\">\n",
       "  <thead>\n",
       "    <tr style=\"text-align: right;\">\n",
       "      <th></th>\n",
       "      <th>購買時間</th>\n",
       "      <th>品項</th>\n",
       "      <th>價格（新台幣）</th>\n",
       "      <th>出資者</th>\n",
       "    </tr>\n",
       "  </thead>\n",
       "  <tbody>\n",
       "    <tr>\n",
       "      <th>0</th>\n",
       "      <td>2024-07-09 02:35:55.539547</td>\n",
       "      <td>Apple</td>\n",
       "      <td>100</td>\n",
       "      <td>王小明</td>\n",
       "    </tr>\n",
       "  </tbody>\n",
       "</table>\n",
       "</div>"
      ],
      "text/plain": [
       "                        購買時間     品項  價格（新台幣）  出資者\n",
       "0 2024-07-09 02:35:55.539547  Apple      100  王小明"
      ]
     },
     "execution_count": 16,
     "metadata": {},
     "output_type": "execute_result"
    }
   ],
   "source": [
    "df"
   ]
  },
  {
   "cell_type": "code",
   "execution_count": 17,
   "metadata": {},
   "outputs": [],
   "source": [
    "class MoneyBook:\n",
    "    def __init__(self):\n",
    "        self.clients: list[str] = []\n",
    "        self.add_client()\n",
    "\n",
    "    def add_client(self):\n",
    "        print(\"新帳本創建！\")\n",
    "\n",
    "        input_prompt = \"請輸入分帳者的名稱（以換行分隔，輸入 done 代表結束輸入）：\"\n",
    "        while True:\n",
    "            user_input = input(input_prompt).strip()  # 輸入並去除首尾空格\n",
    "            if user_input[:4] == \"done\":\n",
    "                print(\"結束輸入！\")\n",
    "                self.show_client()\n",
    "                break\n",
    "            else:\n",
    "                print(f\"加入分帳者：{user_input}\")\n",
    "                self.clients.append(user_input)\n",
    "\n",
    "    def show_client(self):\n",
    "        print(\"目前參與的分帳者有：\")\n",
    "        [print(x) for x in self.clients]\n"
   ]
  },
  {
   "cell_type": "code",
   "execution_count": 18,
   "metadata": {},
   "outputs": [
    {
     "name": "stdout",
     "output_type": "stream",
     "text": [
      "新帳本創建！\n",
      "加入分帳者：pytree\n",
      "加入分帳者：zw\n",
      "加入分帳者：omgomgomg\n",
      "結束輸入！\n",
      "目前參與的分帳者有：\n",
      "pytree\n",
      "zw\n",
      "omgomgomg\n"
     ]
    }
   ],
   "source": [
    "mb = MoneyBook()"
   ]
  },
  {
   "cell_type": "code",
   "execution_count": 19,
   "metadata": {},
   "outputs": [
    {
     "name": "stdout",
     "output_type": "stream",
     "text": [
      "目前參與的分帳者有：\n",
      "pytree\n",
      "zw\n",
      "omgomgomg\n"
     ]
    }
   ],
   "source": [
    "mb.show_client()"
   ]
  },
  {
   "cell_type": "code",
   "execution_count": null,
   "metadata": {},
   "outputs": [],
   "source": []
  }
 ],
 "metadata": {
  "kernelspec": {
   "display_name": "food_splitter",
   "language": "python",
   "name": "python3"
  },
  "language_info": {
   "codemirror_mode": {
    "name": "ipython",
    "version": 3
   },
   "file_extension": ".py",
   "mimetype": "text/x-python",
   "name": "python",
   "nbconvert_exporter": "python",
   "pygments_lexer": "ipython3",
   "version": "3.12.4"
  }
 },
 "nbformat": 4,
 "nbformat_minor": 2
}
